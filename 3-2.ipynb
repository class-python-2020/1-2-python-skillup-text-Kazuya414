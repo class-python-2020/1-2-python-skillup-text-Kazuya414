{
 "metadata": {
  "language_info": {
   "codemirror_mode": {
    "name": "ipython",
    "version": 3
   },
   "file_extension": ".py",
   "mimetype": "text/x-python",
   "name": "python",
   "nbconvert_exporter": "python",
   "pygments_lexer": "ipython3",
   "version": 3
  },
  "orig_nbformat": 2,
  "kernelspec": {
   "name": "python_defaultSpec_1595991926549",
   "display_name": "Python 3.8.2 32-bit"
  }
 },
 "nbformat": 4,
 "nbformat_minor": 2,
 "cells": [
  {
   "cell_type": "code",
   "execution_count": 1,
   "metadata": {},
   "outputs": [],
   "source": []
  },
  {
   "cell_type": "code",
   "execution_count": 4,
   "metadata": {
    "tags": []
   },
   "outputs": [
    {
     "output_type": "stream",
     "name": "stdout",
     "text": "ok\n"
    }
   ],
   "source": [
    "if a>=10:\n",
    "    print('ok')\n",
    "else:\n",
    "    print('ng')\n"
   ]
  },
  {
   "cell_type": "code",
   "execution_count": 7,
   "metadata": {
    "tags": []
   },
   "outputs": [
    {
     "output_type": "stream",
     "name": "stdout",
     "text": "fifteen\n"
    }
   ],
   "source": [
    "a=30\n",
    "if a% 15 ==0:\n",
    "    print('fifteen')\n",
    "elif a%3 == 0:\n",
    "    print('three')\n",
    "elif a%5 ==0:\n",
    "    print('five') \n",
    "else:\n",
    "    pass            "
   ]
  },
  {
   "cell_type": "code",
   "execution_count": 9,
   "metadata": {
    "tags": []
   },
   "outputs": [
    {
     "output_type": "stream",
     "name": "stdout",
     "text": "fifteen\n"
    }
   ],
   "source": [
    "if a%15==0:\n",
    "    print('fifteen')\n",
    "elif a%3 ==0:\n",
    "    print('three') \n",
    "elif a% 5==0:\n",
    "    print('five')       "
   ]
  },
  {
   "cell_type": "code",
   "execution_count": 10,
   "metadata": {
    "tags": []
   },
   "outputs": [
    {
     "output_type": "stream",
     "name": "stdout",
     "text": "ng\n"
    }
   ],
   "source": [
    "a,b = 10,20\n",
    "if a>10 and b> 10:\n",
    "    print('ok')\n",
    "else:\n",
    "    print('ng')    "
   ]
  },
  {
   "cell_type": "code",
   "execution_count": 11,
   "metadata": {
    "tags": []
   },
   "outputs": [
    {
     "output_type": "stream",
     "name": "stdout",
     "text": "ok\n"
    }
   ],
   "source": [
    "a,b =20,10\n",
    "if a> 10 or b >10:\n",
    "    print('ok')\n",
    "else:\n",
    "    print('ng')      "
   ]
  },
  {
   "cell_type": "code",
   "execution_count": 12,
   "metadata": {
    "tags": []
   },
   "outputs": [
    {
     "output_type": "stream",
     "name": "stdout",
     "text": "11\n"
    }
   ],
   "source": [
    "a =10\n",
    "if a>10:\n",
    "    a /=2\n",
    "else:\n",
    "    a +=1\n",
    "print(a)        "
   ]
  },
  {
   "cell_type": "code",
   "execution_count": 13,
   "metadata": {
    "tags": []
   },
   "outputs": [
    {
     "output_type": "stream",
     "name": "stdout",
     "text": "12\n"
    }
   ],
   "source": [
    "a= 10\n",
    "if a>= 100:\n",
    "    a*=2\n",
    "elif a>=50:\n",
    "    a /=2\n",
    "else:\n",
    "    a += 2\n",
    "print(a)            "
   ]
  },
  {
   "cell_type": "code",
   "execution_count": 14,
   "metadata": {},
   "outputs": [],
   "source": [
    "if a>=100:\n",
    "    a*= 2\n",
    "elif a>=50:\n",
    "    a/=2\n",
    "else:\n",
    "    a+=2\n",
    "        "
   ]
  },
  {
   "cell_type": "code",
   "execution_count": null,
   "metadata": {},
   "outputs": [],
   "source": []
  }
 ]
}